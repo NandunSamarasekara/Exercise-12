{
 "cells": [
  {
   "cell_type": "markdown",
   "id": "5fde51d5-d998-4d8f-bf7a-d6dbb618d23e",
   "metadata": {},
   "source": [
    "# My Data Science Tools Notebook\n"
   ]
  },
  {
   "cell_type": "markdown",
   "id": "0aa314c1-9ad1-48ec-a720-e91813a71259",
   "metadata": {},
   "source": [
    "This is a notebook for basic skills of working with Jupyter Notebooks, including Markdown and Python code."
   ]
  },
  {
   "cell_type": "markdown",
   "id": "38e6d110-e08d-45e7-8bed-da98b4defb3e",
   "metadata": {},
   "source": [
    "## Popular Data Science Languages\n",
    "1. Python\n",
    "2. R\n",
    "3. SQL\n",
    "4. Julia\n",
    "5. Scala\n"
   ]
  },
  {
   "cell_type": "markdown",
   "id": "f59dfc30-b882-4f2c-994c-d67c984b7ae3",
   "metadata": {},
   "source": [
    "# Common Data Science Libraries\n",
    "- NumPy\n",
    "- Matplotlib\n",
    "- Scikit-learn\n",
    "- TensorFlow\n"
   ]
  },
  {
   "cell_type": "markdown",
   "id": "834cc5cb-c872-49aa-86a1-e24edfac2219",
   "metadata": {},
   "source": [
    "## Data Science Tools\n",
    "| Tool          | Description                       |\n",
    "|---------------|-----------------------------------|\n",
    "| Jupyter       | Interactive coding environment    |\n",
    "| RStudio       | IDE for R programming             |\n",
    "| Apache Spark  | Big data processing framework     |\n"
   ]
  },
  {
   "cell_type": "markdown",
   "id": "caf78564-f474-4ca5-8035-48c9d9c91cce",
   "metadata": {},
   "source": [
    "## Arithmetic Examples\n",
    "Basic arithmetic operations can include addition, subtraction, multiplication, and division.\n"
   ]
  },
  {
   "cell_type": "code",
   "execution_count": 2,
   "id": "4bf9a299-2d3a-458a-ba80-a9ffe882a902",
   "metadata": {},
   "outputs": [
    {
     "data": {
      "text/plain": [
       "22"
      ]
     },
     "execution_count": 2,
     "metadata": {},
     "output_type": "execute_result"
    }
   ],
   "source": [
    "# Multiply and add numbers\n",
    "result = (5 * 3) + 7\n",
    "result\n"
   ]
  },
  {
   "cell_type": "code",
   "execution_count": 3,
   "id": "6ab26c61-1964-4915-80bf-76e7dccef3a4",
   "metadata": {},
   "outputs": [
    {
     "data": {
      "text/plain": [
       "2.0"
      ]
     },
     "execution_count": 3,
     "metadata": {},
     "output_type": "execute_result"
    }
   ],
   "source": [
    "# Convert minutes to hours\n",
    "minutes = 120\n",
    "hours = minutes / 60\n",
    "hours\n"
   ]
  },
  {
   "cell_type": "markdown",
   "id": "a2310003-ce9c-40dd-b5a0-351b601e7755",
   "metadata": {},
   "source": [
    "## Objectives\n",
    "- Understand Markdown syntax\n",
    "- Write and execute Python code\n",
    "- Use Jupyter Notebook effectively\n"
   ]
  },
  {
   "cell_type": "markdown",
   "id": "16037ba5-f82d-46de-8c4d-f8fe9f549dba",
   "metadata": {},
   "source": [
    "Nandun Samaraseksara"
   ]
  },
  {
   "cell_type": "code",
   "execution_count": null,
   "id": "0ec711c9-5568-4863-aba1-3e95d2032151",
   "metadata": {},
   "outputs": [],
   "source": []
  }
 ],
 "metadata": {
  "kernelspec": {
   "display_name": "Python 3 (ipykernel)",
   "language": "python",
   "name": "python3"
  },
  "language_info": {
   "codemirror_mode": {
    "name": "ipython",
    "version": 3
   },
   "file_extension": ".py",
   "mimetype": "text/x-python",
   "name": "python",
   "nbconvert_exporter": "python",
   "pygments_lexer": "ipython3",
   "version": "3.11.9"
  }
 },
 "nbformat": 4,
 "nbformat_minor": 5
}
